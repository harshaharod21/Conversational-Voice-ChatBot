{
  "nbformat": 4,
  "nbformat_minor": 0,
  "metadata": {
    "colab": {
      "provenance": [],
      "authorship_tag": "ABX9TyOn8LLfs2VWZFQC+W70U6IC",
      "include_colab_link": true
    },
    "kernelspec": {
      "name": "python3",
      "display_name": "Python 3"
    },
    "language_info": {
      "name": "python"
    }
  },
  "cells": [
    {
      "cell_type": "markdown",
      "metadata": {
        "id": "view-in-github",
        "colab_type": "text"
      },
      "source": [
        "<a href=\"https://colab.research.google.com/github/harshaharod21/Conversational-Voice-ChatBot/blob/main/voice_chatbot.ipynb\" target=\"_parent\"><img src=\"https://colab.research.google.com/assets/colab-badge.svg\" alt=\"Open In Colab\"/></a>"
      ]
    },
    {
      "cell_type": "code",
      "execution_count": null,
      "metadata": {
        "id": "sJLrPayHyPfh"
      },
      "outputs": [],
      "source": [
        "!pip install streamlit\n",
        "!pip install openai==0.10.2\n",
        "!pip install pydub\n",
        "!pip install audio_recorder_streamlit\n"
      ]
    },
    {
      "cell_type": "code",
      "source": [
        "# Set your OpenAI API key here\n",
        "OPENAI_API_KEY = 'sk-proj-AFWgm83prP5u4zbLizqoT3BlbkFJdSdncWx9ch6oIsYtDQWt'\n"
      ],
      "metadata": {
        "id": "_5YIKV35yS1D"
      },
      "execution_count": null,
      "outputs": []
    },
    {
      "cell_type": "code",
      "source": [
        "import openai\n",
        "\n",
        "# Set your OpenAI API key\n",
        "openai.api_key = OPENAI_API_KEY"
      ],
      "metadata": {
        "id": "m3W5Rp5S2RU4"
      },
      "execution_count": null,
      "outputs": []
    },
    {
      "cell_type": "code",
      "source": [
        "import streamlit as st\n",
        "import os\n",
        "from utils import get_answer, text_to_speech, speech_to_text\n",
        "from audio_recorder_streamlit import audio_recorder\n"
      ],
      "metadata": {
        "id": "4xdroyku3D-L"
      },
      "execution_count": null,
      "outputs": []
    },
    {
      "cell_type": "code",
      "source": [
        "# Initialize session state for managing chat messages\n",
        "def initialize_session_state():\n",
        "    if \"messages\" not in st.session_state:\n",
        "        st.session_state.messages = [{\"role\": \"assistant\", \"content\": \"Hi! How may I assist you today?\"}]\n",
        "\n",
        "initialize_session_state()\n",
        "\n",
        "st.title(\"OpenAI Conversational Chatbot 🤖\")\n",
        "\n",
        "# Handling Voice Inputs\n",
        "footer_container = st.container()\n",
        "with footer_container:\n",
        "    audio_bytes = audio_recorder()\n",
        "if audio_bytes:\n",
        "    with st.spinner(\"Transcribing...\"):\n",
        "        webm_file_path = \"temp_audio.mp3\"\n",
        "        with open(webm_file_path, \"wb\") as f:\n",
        "            f.write(audio_bytes)\n",
        "\n",
        "        transcript = speech_to_text(webm_file_path)\n",
        "        if transcript:\n",
        "            st.session_state.messages.append({\"role\": \"user\", \"content\": transcript})\n",
        "            with st.chat_message(\"user\"):\n",
        "                st.write(transcript)\n",
        "            os.remove(webm_file_path)\n",
        "\n",
        "# Chatbot Response Processing\n",
        "if st.session_state.messages[-1][\"role\"] != \"assistant\":\n",
        "    with st.chat_message(\"assistant\"):\n",
        "        with st.spinner(\"Thinking🤔...\"):\n",
        "            final_response = get_answer(st.session_state.messages)\n",
        "        with st.spinner(\"Generating audio response...\"):\n",
        "            audio_file = text_to_speech(final_response)\n",
        "            st.audio(audio_file, format='audio/mp3')\n",
        "        st.write(final_response)\n",
        "        st.session_state.messages.append({\"role\": \"assistant\", \"content\": final_response})\n",
        "        os.remove(audio_file)"
      ],
      "metadata": {
        "id": "5wYboDgM3IhS"
      },
      "execution_count": null,
      "outputs": []
    }
  ]
}